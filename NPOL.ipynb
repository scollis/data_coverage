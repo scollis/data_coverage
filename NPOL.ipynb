{
 "metadata": {
  "name": "",
  "signature": "sha256:fb2fc93aefeda8146ae77198e0c0ae63b434522dd08ce64b6d19e1bc8ac9b7e2"
 },
 "nbformat": 3,
 "nbformat_minor": 0,
 "worksheets": [
  {
   "cells": [
    {
     "cell_type": "code",
     "collapsed": false,
     "input": [
      "#first we do some imports and check the version of Py-ART for consistency\n",
      "import pyart\n",
      "from matplotlib import pyplot as plt\n",
      "from matplotlib import rc\n",
      "import matplotlib.dates as mdates\n",
      "import netCDF4\n",
      "from netCDF4 import num2date\n",
      "import numpy as np\n",
      "import copy\n",
      "import scipy\n",
      "import os\n",
      "from IPython.parallel import Client\n",
      "import pickle\n",
      "from time import time\n",
      "%matplotlib inline\n",
      "print pyart.__version__"
     ],
     "language": "python",
     "metadata": {},
     "outputs": [
      {
       "output_type": "stream",
       "stream": "stdout",
       "text": [
        "1.0.0.dev-5a89d03\n"
       ]
      }
     ],
     "prompt_number": 1
    },
    {
     "cell_type": "code",
     "collapsed": false,
     "input": [
      "radar_in_dirs = [ '/data-in/sc9test/npol/']\n",
      "names = ['NPOL']\n",
      "print \"Done step 1\"\n",
      "files = []\n",
      "for i in range(len(names)):\n",
      "    these_files = os.listdir(radar_in_dirs[i])\n",
      "    these_files.sort()\n",
      "    fq_files = []\n",
      "    for fl in these_files:\n",
      "        subdir_contents = os.listdir(radar_in_dirs[i]+ fl)\n",
      "        for final_file in subdir_contents:\n",
      "            fq_files.append(radar_in_dirs[i]+ fl + '/' + final_file)\n",
      "    files.append(fq_files)\n",
      "\n"
     ],
     "language": "python",
     "metadata": {},
     "outputs": [
      {
       "output_type": "stream",
       "stream": "stdout",
       "text": [
        "Done step 1\n"
       ]
      }
     ],
     "prompt_number": 2
    },
    {
     "cell_type": "code",
     "collapsed": false,
     "input": [
      "def get_date(filename):\n",
      "    try:\n",
      "        rslfile = pyart.io._rsl_interface.RslFile(filename)\n",
      "        tt = []\n",
      "        available_vols = rslfile.available_moments()\n",
      "        first_volume = rslfile.get_volume(available_vols[0])\n",
      "        nsweeps = first_volume.nsweeps\n",
      "        for i in range(nsweeps):\n",
      "            sweep = first_volume.get_sweep(i)\n",
      "            for j in range(sweep.nrays):\n",
      "                tt.append(sweep.get_ray(j).get_datetime())\n",
      "        \n",
      "        t = (np.array(tt).min(), np.array(tt).max())\n",
      "        if sweep.azimuth == -999.0:\n",
      "            typ = 'ppi'\n",
      "        elif rslfile.get_volume(available_vols[0]).get_sweep(0).elev == 90.0:\n",
      "            typ = 'vert'\n",
      "        else:\n",
      "            typ = 'rhi'\n",
      "    except:\n",
      "        #return start time and end time being the same\n",
      "        t = (num2date(0, 'seconds since 2000-01-01T00:00:00Z'), num2date(0, 'seconds since 2000-01-01T00:00:00Z'))\n",
      "        typ = 'nyet'\n",
      "    return t,typ\n",
      "    \n",
      "        \n",
      "t1 = time()\n",
      "print get_date(files[0][0])\n",
      "print time() - t1\n",
      "\n"
     ],
     "language": "python",
     "metadata": {},
     "outputs": [
      {
       "output_type": "stream",
       "stream": "stdout",
       "text": [
        "((datetime.datetime(2011, 4, 13, 13, 16, 41), datetime.datetime(2011, 4, 13, 13, 17, 29)), 'ppi')\n",
        "0.208076953888\n"
       ]
      }
     ],
     "prompt_number": 45
    },
    {
     "cell_type": "code",
     "collapsed": false,
     "input": [
      "\n",
      "\n",
      "results = []\n",
      "scans = []\n",
      "for i in range(len(files)):\n",
      "    print \"Doing \", names[i] \n",
      "    t1 = time()\n",
      "    c = Client()\n",
      "    dview = c[:]\n",
      "    dview.block = False\n",
      "    dview.execute('import pyart')\n",
      "    dview.execute('from netCDF4 import num2date')\n",
      "    dview.execute('import numpy as np')\n",
      "    result = dview.map_async(get_date,files[i])\n",
      "    datestrs = result.get()\n",
      "    print (time()-t1)/len(files[i])\n",
      "    block_list = []\n",
      "    type_list = []\n",
      "    for pair in datestrs:\n",
      "        date_start = mdates.date2num(pair[0][0])\n",
      "        scan_length = mdates.date2num(pair[0][1]) - date_start\n",
      "        block_list.append((date_start, scan_length ))\n",
      "        type_list.append(pair[1])\n",
      "    results.append(block_list)\n",
      "    scans.append(type_list)\n"
     ],
     "language": "python",
     "metadata": {},
     "outputs": [
      {
       "output_type": "stream",
       "stream": "stdout",
       "text": [
        "Doing  NPOL\n",
        "0.0953578167016"
       ]
      },
      {
       "output_type": "stream",
       "stream": "stdout",
       "text": [
        "\n"
       ]
      }
     ],
     "prompt_number": 50
    },
    {
     "cell_type": "code",
     "collapsed": false,
     "input": [
      "data_dict = {}\n",
      "for i in range(len(names)):\n",
      "    data_dict.update({names[i]: results[i]})\n",
      "\n",
      "\n",
      "print len(fq_files)\n",
      "outfile = '/home/sc8/npol.pickle'\n",
      "fh = open(outfile, 'w')\n",
      "pickle.dump(data_dict, fh)\n",
      "fh.close()\n"
     ],
     "language": "python",
     "metadata": {},
     "outputs": [
      {
       "output_type": "stream",
       "stream": "stdout",
       "text": [
        "14065\n"
       ]
      }
     ],
     "prompt_number": 52
    },
    {
     "cell_type": "code",
     "collapsed": false,
     "input": [
      "f = pyart.io.read(files[0][0])"
     ],
     "language": "python",
     "metadata": {},
     "outputs": [],
     "prompt_number": 20
    },
    {
     "cell_type": "code",
     "collapsed": false,
     "input": [
      "print f.time['data']"
     ],
     "language": "python",
     "metadata": {},
     "outputs": [
      {
       "output_type": "stream",
       "stream": "stdout",
       "text": [
        "[ 0.  0.  0.  0.  0.  0.  0.  0.  0.  0.  0.  0.  0.  0.  0.  0.  0.  0.\n",
        "  0.  0.  0.  0.  0.  0.  0.  0.  0.  0.  0.  0.  0.  0.  0.  0.  0.  0.\n",
        "  0.  0.  0.  0.  0.  0.  0.  0.  0.  0.  0.  0.  0.  0.  0.  0.  0.  0.\n",
        "  0.  0.  0.  0.  0.  0.  0.  0.  0.  0.  0.  0.  0.  0.  0.  0.  0.  0.\n",
        "  0.  0.  0.  0.  0.  0.  0.  0.  0.  0.  0.  0.  0.  0.  0.  0.  0.  0.\n",
        "  0.  0.  0.  0.  0.  0.  0.  0.  0.  0.  0.  0.  0.  0.  0.  0.  0.  0.\n",
        "  0.  0.  0.  0.  0.  0.  0.  0.  0.  0.  0.  0.  0.  0.  0.  0.  0.  0.\n",
        "  0.  0.  0.  0.  0.  0.  0.  0.  0.  0.  0.  0.  0.  0.  0.  0.  0.  0.\n",
        "  0.  0.  0.  0.  0.  0.  0.  0.  0.  0.  0.  0.  0.  0.  0.  0.  0.  0.\n",
        "  0.  0.  0.  0.  0.  0.  0.  0.  0.  0.  0.  0.  0.  0.  0.  0.  0.  0.\n",
        "  0.  0.  0.  0.  0.  0.  0.  0.  0.  0.  0.  0.  0.  0.  0.  0.  0.  0.\n",
        "  0.  0.  0.  0.  0.  0.  0.  0.  0.  0.  0.  0.  0.  0.  0.  0.  0.  0.\n",
        "  0.  0.  0.  0.  0.  0.  0.  0.  0.  0.  0.  0.  0.  0.  0.  0.  0.  0.\n",
        "  0.  0.  0.  0.  0.  0.  0.  0.  0.  0.  0.  0.  0.  0.  0.  0.  0.  0.\n",
        "  0.  0.  0.  0.  0.  0.  0.  0.  0.  0.  0.  0.  0.  0.  0.  0.  0.  0.\n",
        "  0.  0.  0.  0.  0.  0.  0.  0.  0.  0.  0.  0.  0.  0.  0.  0.  0.  0.\n",
        "  0.  0.  0.  0.  0.  0.  0.  0.  0.  0.  0.  0.  0.  0.  0.  0.  0.  0.\n",
        "  0.  0.  0.  0.  0.  0.  0.  0.  0.  0.  0.  0.  0.  0.  0.  0.  0.  0.\n",
        "  0.  0.  0.  0.  0.  0.  0.  0.  0.  0.  0.  0.  0.  0.  0.  0.  0.  0.\n",
        "  0.  0.  0.  0.  0.  0.  0.  0.  0.  0.  0.  0.  0.  0.  0.  0.  0.  0.]\n"
       ]
      }
     ],
     "prompt_number": 21
    },
    {
     "cell_type": "code",
     "collapsed": false,
     "input": [
      "print files[0][0]\n"
     ],
     "language": "python",
     "metadata": {},
     "outputs": [
      {
       "output_type": "stream",
       "stream": "stdout",
       "text": [
        "/data-in/sc9test/npol/0413/mc3e_npol_20110413_131702.uf\n"
       ]
      }
     ],
     "prompt_number": 22
    },
    {
     "cell_type": "code",
     "collapsed": false,
     "input": [
      "rslfile = pyart.io._rsl_interface.RslFile(files[0][0])"
     ],
     "language": "python",
     "metadata": {},
     "outputs": [],
     "prompt_number": 27
    },
    {
     "cell_type": "code",
     "collapsed": false,
     "input": [
      "print fr."
     ],
     "language": "python",
     "metadata": {},
     "outputs": [
      {
       "output_type": "stream",
       "stream": "stdout",
       "text": [
        "13\n"
       ]
      }
     ],
     "prompt_number": 26
    },
    {
     "cell_type": "code",
     "collapsed": false,
     "input": [
      "tt = []\n",
      "available_vols = rslfile.available_moments()\n",
      "first_volume = rslfile.get_volume(available_vols[0])\n",
      "nsweeps = first_volume.nsweeps\n",
      "\n",
      "for i in range(nsweeps):\n",
      "    sweep = first_volume.get_sweep(i)\n",
      "    print sweep.azimuth\n",
      "    for j in range(sweep.nrays):\n",
      "        tt.append(sweep.get_ray(j).get_datetime())"
     ],
     "language": "python",
     "metadata": {},
     "outputs": [
      {
       "output_type": "stream",
       "stream": "stdout",
       "text": [
        "-999.0\n"
       ]
      }
     ],
     "prompt_number": 36
    },
    {
     "cell_type": "code",
     "collapsed": false,
     "input": [
      "print sweep.elev"
     ],
     "language": "python",
     "metadata": {},
     "outputs": [
      {
       "output_type": "stream",
       "stream": "stdout",
       "text": [
        "0.5\n"
       ]
      }
     ],
     "prompt_number": 37
    },
    {
     "cell_type": "code",
     "collapsed": false,
     "input": [
      "fillvalue = get_fillvalue()\n",
      "rslfile = _rsl_interface.RslFile(filename, radar_format, callid)\n",
      "available_vols = rslfile.available_moments()\n",
      "first_volume = rslfile.get_volume(available_vols[0])\n",
      "first_sweep = first_volume.get_sweep(0)\n",
      "first_ray = first_sweep.get_ray(0)\n",
      "nsweeps = first_volume.nsweeps\n",
      "# scan_type, sweep_mode, fixed_angle\n",
      "sweep_mode = filemetadata('sweep_mode')\n",
      "fixed_angle = filemetadata('fixed_angle')\n",
      "if first_sweep.azimuth == -999.0:\n",
      "scan_type = 'ppi'\n",
      "sweep_mode['data'] = np.array(nsweeps * ['azimuth_surveillance'])\n",
      "fixed_angle['data'] = first_volume.get_sweep_elevs()\n",
      "else:\n",
      "scan_type = 'rhi'\n",
      "sweep_mode['data'] = np.array(nsweeps * ['rhi'])\n",
      "fixed_angle['data'] = first_volume.get_sweep_azimuths()\n",
      "# time\n",
      "time = filemetadata('time')\n",
      "t_start = first_ray.get_datetime()\n",
      "last_sweep = first_volume.get_sweep(nsweeps - 1)\n",
      "last_ray = last_sweep.get_ray(last_sweep.nrays - 1)\n",
      "t_end = last_ray.get_datetime()\n",
      "t_span = (t_end - t_start).seconds\n",
      "time['data'] = np.linspace(0, t_span, first_volume.total_rays())\n",
      "time['units'] = make_time_unit_str(t_start)"
     ],
     "language": "python",
     "metadata": {},
     "outputs": []
    }
   ],
   "metadata": {}
  }
 ]
}