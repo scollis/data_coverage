{
 "metadata": {
  "name": "",
  "signature": "sha256:09dad66a4fb769bfd31b127d335cb8f0e964a2f2206b5ba8b1b22f74f18a75df"
 },
 "nbformat": 3,
 "nbformat_minor": 0,
 "worksheets": [
  {
   "cells": [
    {
     "cell_type": "code",
     "collapsed": false,
     "input": [
      "#first we do some imports and check the version of Py-ART for consistency\n",
      "import pyart\n",
      "from matplotlib import pyplot as plt\n",
      "from matplotlib import rc\n",
      "import matplotlib.dates as mdates\n",
      "import netCDF4\n",
      "import numpy as np\n",
      "import copy\n",
      "import scipy\n",
      "import os\n",
      "from IPython.parallel import Client\n",
      "import pickle\n",
      "from time import time\n",
      "from datetime import datetime, timedelta\n",
      "import matplotlib.dates as mdates\n",
      "\n",
      "%matplotlib inline\n",
      "print pyart.__version__\n"
     ],
     "language": "python",
     "metadata": {},
     "outputs": [
      {
       "output_type": "stream",
       "stream": "stdout",
       "text": [
        "1.0.0.dev-121cf53\n"
       ]
      }
     ],
     "prompt_number": 1
    },
    {
     "cell_type": "code",
     "collapsed": false,
     "input": [
      "def parsivel_ingest(filename):\n",
      "    mydata=np.genfromtxt(filename)\n",
      "    parsivel_dsds=mydata[:,4::]\n",
      "    timing_data=mydata[:,:4].astype(int)\n",
      "    datetime_array=np.array([datetime(timing_data[i,0], \n",
      "                                  1,1,timing_data[i,2], \n",
      "                                  timing_data[i,3]) + \\\n",
      "                                  timedelta(int(timing_data[i,1]-1)) \\\n",
      "                                  for i in range(timing_data.shape[0])])\n",
      "    drop_diams=np.array([0.064, 0.193, 0.321, 0.45, 0.579, 0.708, 0.836, \n",
      "                0.965, 1.094, 1.223, 1.416, 1.674, 1.931, 2.189, \n",
      "                2.446, 2.832, 3.347, 3.862, 4.378, 4.892, 5.665, \n",
      "                6.695, 7.725, 8.755, 9.785, 11.33, 13.39, 15.45, \n",
      "                17.51, 19.57, 22.145, 25.235])\n",
      "    return datetime_array, drop_diams, parsivel_dsds"
     ],
     "language": "python",
     "metadata": {},
     "outputs": [],
     "prompt_number": 2
    },
    {
     "cell_type": "code",
     "collapsed": false,
     "input": [
      "test_file = '/media/scollis/bigdata/mc3e/nasa/parsivel_apu/parsivel_apu03_mc3e_N363800.27_W0972956.22_20110427_dsd.txt'\n",
      "tpl = parsivel_ingest(test_file)"
     ],
     "language": "python",
     "metadata": {},
     "outputs": [],
     "prompt_number": 3
    },
    {
     "cell_type": "code",
     "collapsed": false,
     "input": [
      "fig = plt.figure(figsize = [15,4])\n",
      "\n",
      "pc = plt.pcolormesh(mdates.date2num(tpl[0]), tpl[1],  tpl[2].transpose())\n",
      "plt.gca().xaxis_date()\n",
      "plt.gca().set_xlim([mdates.date2num(tpl[0][0]), mdates.date2num(tpl[0][-1])])\n",
      "plt.gca().set_ylim([0,25])\n",
      "cb = plt.colorbar()\n",
      "cb.set_label('Counts')\n"
     ],
     "language": "python",
     "metadata": {},
     "outputs": [
      {
       "metadata": {},
       "output_type": "display_data",
       "png": "[encoded data removed]",
       "text": [
        "<matplotlib.figure.Figure at 0x7f5e3572ac50>"
       ]
      }
     ],
     "prompt_number": 4
    },
    {
     "cell_type": "code",
     "collapsed": false,
     "input": [
      "parsivel_names = ['parsivel_apu%02d' %(d+1) for d in range(16)]"
     ],
     "language": "python",
     "metadata": {},
     "outputs": [],
     "prompt_number": 5
    },
    {
     "cell_type": "code",
     "collapsed": false,
     "input": [
      "print parsivel_names"
     ],
     "language": "python",
     "metadata": {},
     "outputs": [
      {
       "output_type": "stream",
       "stream": "stdout",
       "text": [
        "['parsivel_apu01', 'parsivel_apu02', 'parsivel_apu03', 'parsivel_apu04', 'parsivel_apu05', 'parsivel_apu06', 'parsivel_apu07', 'parsivel_apu08', 'parsivel_apu09', 'parsivel_apu10', 'parsivel_apu11', 'parsivel_apu12', 'parsivel_apu13', 'parsivel_apu14', 'parsivel_apu15', 'parsivel_apu16']\n"
       ]
      }
     ],
     "prompt_number": 6
    },
    {
     "cell_type": "code",
     "collapsed": false,
     "input": [
      "in_dir = '/media/scollis/bigdata/mc3e/nasa/parsivel_apu/'\n",
      "files = []\n",
      "\n",
      "for i in range(len(parsivel_names)):\n",
      "    these_files = os.listdir(in_dir)\n",
      "    these_files.sort()\n",
      "    fq_files = []\n",
      "    for fl in these_files:\n",
      "        if parsivel_names[i] in fl and '_dsd.txt' in fl:\n",
      "            fq_files.append(in_dir + fl)\n",
      "    files.append(fq_files)\n",
      "    "
     ],
     "language": "python",
     "metadata": {},
     "outputs": [],
     "prompt_number": 7
    },
    {
     "cell_type": "code",
     "collapsed": false,
     "input": [
      "print files[0]"
     ],
     "language": "python",
     "metadata": {},
     "outputs": [
      {
       "output_type": "stream",
       "stream": "stdout",
       "text": [
        "['/media/scollis/bigdata/mc3e/nasa/parsivel_apu/parsivel_apu01_mc3e_N363629.79_W0972818.08_20110423_dsd.txt', '/media/scollis/bigdata/mc3e/nasa/parsivel_apu/parsivel_apu01_mc3e_N363629.79_W0972818.08_20110424_dsd.txt', '/media/scollis/bigdata/mc3e/nasa/parsivel_apu/parsivel_apu01_mc3e_N363629.79_W0972818.08_20110425_dsd.txt', '/media/scollis/bigdata/mc3e/nasa/parsivel_apu/parsivel_apu01_mc3e_N363629.79_W0972818.08_20110426_dsd.txt', '/media/scollis/bigdata/mc3e/nasa/parsivel_apu/parsivel_apu01_mc3e_N363629.79_W0972818.08_20110501_dsd.txt', '/media/scollis/bigdata/mc3e/nasa/parsivel_apu/parsivel_apu01_mc3e_N363629.79_W0972818.08_20110510_dsd.txt', '/media/scollis/bigdata/mc3e/nasa/parsivel_apu/parsivel_apu01_mc3e_N363629.79_W0972818.08_20110511_dsd.txt', '/media/scollis/bigdata/mc3e/nasa/parsivel_apu/parsivel_apu01_mc3e_N363629.79_W0972818.08_20110516_dsd.txt', '/media/scollis/bigdata/mc3e/nasa/parsivel_apu/parsivel_apu01_mc3e_N363629.79_W0972818.08_20110518_dsd.txt', '/media/scollis/bigdata/mc3e/nasa/parsivel_apu/parsivel_apu01_mc3e_N363629.79_W0972818.08_20110520_dsd.txt', '/media/scollis/bigdata/mc3e/nasa/parsivel_apu/parsivel_apu01_mc3e_N363629.79_W0972818.08_20110523_dsd.txt']\n"
       ]
      }
     ],
     "prompt_number": 8
    },
    {
     "cell_type": "code",
     "collapsed": false,
     "input": [
      "def get_date(filename):\n",
      "    def parsivel_ingest(filename):\n",
      "        mydata=np.genfromtxt(filename)\n",
      "        parsivel_dsds=mydata[:,4::]\n",
      "        timing_data=mydata[:,:4].astype(int)\n",
      "        datetime_array=np.array([datetime(timing_data[i,0], \n",
      "                                      1,1,timing_data[i,2], \n",
      "                                      timing_data[i,3]) + \\\n",
      "                                      timedelta(int(timing_data[i,1]-1)) \\\n",
      "                                      for i in range(timing_data.shape[0])])\n",
      "        drop_diams=np.array([0.064, 0.193, 0.321, 0.45, 0.579, 0.708, 0.836, \n",
      "                    0.965, 1.094, 1.223, 1.416, 1.674, 1.931, 2.189, \n",
      "                    2.446, 2.832, 3.347, 3.862, 4.378, 4.892, 5.665, \n",
      "                    6.695, 7.725, 8.755, 9.785, 11.33, 13.39, 15.45, \n",
      "                    17.51, 19.57, 22.145, 25.235])\n",
      "        return datetime_array, drop_diams, parsivel_dsds\n",
      "    try:\n",
      "        tpl = parsivel_ingest(filename)\n",
      "        t = (tpl[0].min(),tpl[0].max())\n",
      "    except:\n",
      "        #return start time and end time being the same\n",
      "        t = (num2date(0, 'seconds since 2000-01-01T00:00:00Z'), num2date(0, 'seconds since 2000-01-01T00:00:00Z'))\n",
      "    return t\n",
      "    \n"
     ],
     "language": "python",
     "metadata": {},
     "outputs": [],
     "prompt_number": 9
    },
    {
     "cell_type": "code",
     "collapsed": false,
     "input": [
      "print get_date(files[0][0])"
     ],
     "language": "python",
     "metadata": {},
     "outputs": [
      {
       "output_type": "stream",
       "stream": "stdout",
       "text": [
        "(datetime.datetime(2011, 4, 23, 9, 3), datetime.datetime(2011, 4, 23, 10, 49))\n"
       ]
      }
     ],
     "prompt_number": 10
    },
    {
     "cell_type": "code",
     "collapsed": false,
     "input": [
      "results = []\n",
      "for i in range(len(files)):\n",
      "    print \"Doing \", parsivel_names[i] \n",
      "    t1 = time()\n",
      "    c = Client()\n",
      "    dview = c[:]\n",
      "    dview.block = False\n",
      "    dview.execute('import numpy as np')\n",
      "    dview.execute('from netCDF4 import num2date')\n",
      "    dview.execute('from datetime import datetime, timedelta')\n",
      "    result = dview.map_async(get_date,files[i])\n",
      "    datestrs = result.get()\n",
      "    print (time()-t1)/len(files[i])\n",
      "    block_list = []\n",
      "    print len(files[i]), ' ', len(datestrs)\n",
      "    for pair in datestrs:\n",
      "        date_start = mdates.date2num(pair[0])\n",
      "        scan_length = mdates.date2num(pair[1]) - date_start\n",
      "        block_list.append((date_start, scan_length ))\n",
      "    results.append(block_list)"
     ],
     "language": "python",
     "metadata": {},
     "outputs": [
      {
       "output_type": "stream",
       "stream": "stdout",
       "text": [
        "Doing  parsivel_apu01\n",
        "0.0089010108601"
       ]
      },
      {
       "output_type": "stream",
       "stream": "stdout",
       "text": [
        "\n",
        "11   11\n",
        "Doing  parsivel_apu02\n",
        "0.00381166594369"
       ]
      },
      {
       "output_type": "stream",
       "stream": "stdout",
       "text": [
        "\n",
        "21   21\n",
        "Doing  parsivel_apu03\n",
        "0.00405857676551"
       ]
      },
      {
       "output_type": "stream",
       "stream": "stdout",
       "text": [
        "\n",
        "21   21\n",
        "Doing  parsivel_apu04\n",
        "0.0038727025191"
       ]
      },
      {
       "output_type": "stream",
       "stream": "stdout",
       "text": [
        "\n",
        "24   24\n",
        "Doing  parsivel_apu05\n",
        "0.00373042257209"
       ]
      },
      {
       "output_type": "stream",
       "stream": "stdout",
       "text": [
        "\n",
        "19   19\n",
        "Doing  parsivel_apu06\n",
        "0.00307047885397"
       ]
      },
      {
       "output_type": "stream",
       "stream": "stdout",
       "text": [
        "\n",
        "23   23\n",
        "Doing  parsivel_apu07\n",
        "0.00368671190171"
       ]
      },
      {
       "output_type": "stream",
       "stream": "stdout",
       "text": [
        "\n",
        "21   21\n",
        "Doing  parsivel_apu08\n",
        "0.00374945727262"
       ]
      },
      {
       "output_type": "stream",
       "stream": "stdout",
       "text": [
        "\n",
        "22   22\n",
        "Doing  parsivel_apu09\n",
        "0.00408866670397"
       ]
      },
      {
       "output_type": "stream",
       "stream": "stdout",
       "text": [
        "\n",
        "18   18\n",
        "Doing  parsivel_apu10\n",
        "0.00428505947715"
       ]
      },
      {
       "output_type": "stream",
       "stream": "stdout",
       "text": [
        "\n",
        "19   19\n",
        "Doing  parsivel_apu11\n",
        "0.00419669992783"
       ]
      },
      {
       "output_type": "stream",
       "stream": "stdout",
       "text": [
        "\n",
        "17   17\n",
        "Doing  parsivel_apu12\n",
        "0.00330129123869"
       ]
      },
      {
       "output_type": "stream",
       "stream": "stdout",
       "text": [
        "\n",
        "21   21\n",
        "Doing  parsivel_apu13\n",
        "0.00363299721166"
       ]
      },
      {
       "output_type": "stream",
       "stream": "stdout",
       "text": [
        "\n",
        "19   19\n",
        "Doing  parsivel_apu14\n",
        "0.00511345496544"
       ]
      },
      {
       "output_type": "stream",
       "stream": "stdout",
       "text": [
        "\n",
        "13   13\n",
        "Doing  parsivel_apu15\n",
        "0.00672422515021"
       ]
      },
      {
       "output_type": "stream",
       "stream": "stdout",
       "text": [
        "\n",
        "9   9\n",
        "Doing  parsivel_apu16\n",
        "0.00572752952576"
       ]
      },
      {
       "output_type": "stream",
       "stream": "stdout",
       "text": [
        "\n",
        "11   11\n"
       ]
      }
     ],
     "prompt_number": 11
    },
    {
     "cell_type": "code",
     "collapsed": false,
     "input": [
      "print results[-1]"
     ],
     "language": "python",
     "metadata": {},
     "outputs": [
      {
       "output_type": "stream",
       "stream": "stdout",
       "text": [
        "[(734251.3881944445, 0.5555555555038154), (734252.3576388889, 0.56111111107748), (734253.9319444444, 0.012500000069849193), (734254.2354166667, 0.3590277776820585), (734267.9701388889, 0.00069444440305233), (734268.025, 0.93472222215496), (734275.2715277778, 0.03055555559694767), (734277.0645833333, 0.5909722222713754), (734280.9229166667, 0.037499999976716936), (734281.9104166667, 0.023611111100763083), (734282.8305555555, 0.036805555573664606)]\n"
       ]
      }
     ],
     "prompt_number": 16
    },
    {
     "cell_type": "code",
     "collapsed": false,
     "input": [
      "time = np.linspace(mdates.datestr2num('2011-04-01'), mdates.datestr2num('2011-06-20'), 2000)\n",
      "n_apus = np.zeros_like(time)\n",
      "def find_nearest(array,value):\n",
      "    idx = (np.abs(array-value)).argmin()\n",
      "    return idx"
     ],
     "language": "python",
     "metadata": {},
     "outputs": [],
     "prompt_number": 28
    },
    {
     "cell_type": "code",
     "collapsed": false,
     "input": [
      "for this_result in results:\n",
      "    for block in this_result:\n",
      "        i_start = find_nearest(time, block[0])\n",
      "        i_end = find_nearest(time, block[0] + block[1])\n",
      "        n_apus[i_start:i_end] = n_apus[i_start:i_end] + 1"
     ],
     "language": "python",
     "metadata": {},
     "outputs": [],
     "prompt_number": 29
    },
    {
     "cell_type": "code",
     "collapsed": false,
     "input": [
      "fig = plt.figure(figsize = [15,6])\n",
      "plt.plot(time, n_apus)\n",
      "plt.gca().xaxis_date()\n",
      "\n"
     ],
     "language": "python",
     "metadata": {},
     "outputs": [
      {
       "metadata": {},
       "output_type": "display_data",
       "png": "[encoded data removed]",
       "text": [
        "<matplotlib.figure.Figure at 0x7f5e35055890>"
       ]
      }
     ],
     "prompt_number": 30
    },
    {
     "cell_type": "code",
     "collapsed": false,
     "input": [
      "print "
     ],
     "language": "python",
     "metadata": {},
     "outputs": [
      {
       "output_type": "stream",
       "stream": "stdout",
       "text": [
        "734282.867434\n"
       ]
      }
     ],
     "prompt_number": 26
    },
    {
     "cell_type": "code",
     "collapsed": false,
     "input": [],
     "language": "python",
     "metadata": {},
     "outputs": []
    }
   ],
   "metadata": {}
  }
 ]
}