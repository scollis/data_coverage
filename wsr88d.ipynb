{
 "metadata": {
  "name": "",
  "signature": "sha256:bcb1392f8164adc54db672f9aca232646076c990e0d79ead292a12fe6d4497ca"
 },
 "nbformat": 3,
 "nbformat_minor": 0,
 "worksheets": [
  {
   "cells": [
    {
     "cell_type": "code",
     "collapsed": false,
     "input": [
      "#first we do some imports and check the version of Py-ART for consistency\n",
      "import pyart\n",
      "from matplotlib import pyplot as plt\n",
      "from matplotlib import rc\n",
      "import matplotlib.dates as mdates\n",
      "import netCDF4\n",
      "from netCDF4 import num2date\n",
      "import numpy as np\n",
      "import copy\n",
      "import scipy\n",
      "import os\n",
      "from IPython.parallel import Client\n",
      "import pickle\n",
      "from time import time\n",
      "%matplotlib inline\n",
      "print pyart.__version__"
     ],
     "language": "python",
     "metadata": {},
     "outputs": [
      {
       "output_type": "stream",
       "stream": "stdout",
       "text": [
        "1.0.0.dev-5a89d03\n"
       ]
      }
     ],
     "prompt_number": 12
    },
    {
     "cell_type": "code",
     "collapsed": false,
     "input": [
      "radar_in_dir = '/data-in/sc9test/88d/'\n",
      "names = ['KVNX']"
     ],
     "language": "python",
     "metadata": {},
     "outputs": [],
     "prompt_number": 14
    },
    {
     "cell_type": "code",
     "collapsed": false,
     "input": [
      "files = []\n",
      "these_files = os.listdir(radar_in_dir)\n",
      "these_files.sort()\n",
      "fq_files = []\n",
      "for fl in these_files:\n",
      "    fq_files.append(radar_in_dir + fl)\n",
      "files.append(fq_files)\n",
      "    "
     ],
     "language": "python",
     "metadata": {},
     "outputs": [],
     "prompt_number": 6
    },
    {
     "cell_type": "code",
     "collapsed": false,
     "input": [
      "print files[0][1]"
     ],
     "language": "python",
     "metadata": {},
     "outputs": [
      {
       "output_type": "stream",
       "stream": "stdout",
       "text": [
        "/data-in/sc9test/88d/KVNX20110401_001013_V06\n"
       ]
      }
     ],
     "prompt_number": 9
    },
    {
     "cell_type": "code",
     "collapsed": false,
     "input": [
      "def get_date(filename):\n",
      "    try:\n",
      "        radar = pyart.io.read(filename)\n",
      "        t = (num2date(radar.time['data'][0], radar.time['units']), num2date(radar.time['data'][-1], radar.time['units']))\n",
      "    except:\n",
      "        #return start time and end time being the same\n",
      "        t = (num2date(0, 'seconds since 2000-01-01T00:00:00Z'), num2date(0, 'seconds since 2000-01-01T00:00:00Z'))\n",
      "    return t\n",
      "    \n"
     ],
     "language": "python",
     "metadata": {},
     "outputs": [],
     "prompt_number": 10
    },
    {
     "cell_type": "code",
     "collapsed": false,
     "input": [
      "t1 = time()\n",
      "print get_date(files[0][0])\n",
      "print time() - t1"
     ],
     "language": "python",
     "metadata": {},
     "outputs": [
      {
       "output_type": "stream",
       "stream": "stdout",
       "text": [
        "(datetime.datetime(2011, 4, 1, 0, 0, 27), datetime.datetime(2011, 4, 1, 0, 10, 1))\n",
        "6.11820578575\n"
       ]
      }
     ],
     "prompt_number": 13
    },
    {
     "cell_type": "code",
     "collapsed": false,
     "input": [
      "results = []\n",
      "for i in range(len(files)):\n",
      "    print \"Doing \", names[i] \n",
      "    t1 = time()\n",
      "    c = Client()\n",
      "    dview = c[:]\n",
      "    dview.block = False\n",
      "    dview.execute('import pyart')\n",
      "    dview.execute('from netCDF4 import num2date')\n",
      "    result = dview.map_async(get_date,files[i])\n",
      "    datestrs = result.get()\n",
      "    print (time()-t1)/len(files[i])\n",
      "    block_list = []\n",
      "    for pair in datestrs:\n",
      "        date_start = mdates.date2num(pair[0])\n",
      "        scan_length = mdates.date2num(pair[1]) - date_start\n",
      "        block_list.append((date_start, scan_length ))\n",
      "    results.append(block_list)"
     ],
     "language": "python",
     "metadata": {},
     "outputs": [
      {
       "output_type": "stream",
       "stream": "stdout",
       "text": [
        "Doing  KVNX\n",
        "1.20101165383"
       ]
      },
      {
       "output_type": "stream",
       "stream": "stdout",
       "text": [
        "\n"
       ]
      }
     ],
     "prompt_number": 17
    },
    {
     "cell_type": "code",
     "collapsed": false,
     "input": [
      "data_dict = {}\n",
      "for i in range(len(names)):\n",
      "    data_dict.update({names[i]: results[i]})\n",
      "\n",
      "\n",
      "print len(fq_files)\n",
      "outfile = '/home/sc8/kvnx.pickle'\n",
      "fh = open(outfile, 'w')\n",
      "pickle.dump(data_dict, fh)\n",
      "fh.close()\n"
     ],
     "language": "python",
     "metadata": {},
     "outputs": [
      {
       "output_type": "stream",
       "stream": "stdout",
       "text": [
        "13736\n"
       ]
      }
     ],
     "prompt_number": 18
    },
    {
     "cell_type": "code",
     "collapsed": false,
     "input": [],
     "language": "python",
     "metadata": {},
     "outputs": []
    }
   ],
   "metadata": {}
  }
 ]
}