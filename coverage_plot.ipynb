{
 "metadata": {
  "name": "",
  "signature": "sha256:db6b906f4fbace30fa9a7ad9f3c55e504e3295973502707dfe18f82f022dec50"
 },
 "nbformat": 3,
 "nbformat_minor": 0,
 "worksheets": [
  {
   "cells": [
    {
     "cell_type": "code",
     "collapsed": false,
     "input": [
      "#first we do some imports and check the version of Py-ART for consistency\n",
      "import pyart\n",
      "from matplotlib import pyplot as plt\n",
      "from matplotlib import rc\n",
      "import matplotlib.dates as mdates\n",
      "import netCDF4\n",
      "from netCDF4 import num2date\n",
      "import numpy as np\n",
      "import copy\n",
      "import scipy\n",
      "import os\n",
      "from IPython.parallel import Client\n",
      "import pickle\n",
      "from time import time\n",
      "%matplotlib inline\n",
      "print pyart.__version__"
     ],
     "language": "python",
     "metadata": {},
     "outputs": [
      {
       "output_type": "stream",
       "stream": "stdout",
       "text": [
        "1.0.0.dev-293d051\n"
       ]
      }
     ],
     "prompt_number": 1
    },
    {
     "cell_type": "code",
     "collapsed": false,
     "input": [
      "fh = open('xsapr_ppi.pickle')\n",
      "xsapr_ppi_data_dict = pickle.load(fh)\n",
      "fh.close()\n",
      "fh = open('csapr.pickle')\n",
      "csapr_data_dict = pickle.load(fh)\n",
      "fh.close()\n",
      "fh = open('xsapr_rhi.pickle')\n",
      "xsapr_rhi_data_dict = pickle.load(fh)\n",
      "fh.close()\n",
      "fh = open('kvnx.pickle')\n",
      "kvnx_data_dict = pickle.load(fh)\n",
      "fh.close()\n",
      "fh = open('kazr.pickle')\n",
      "kazr_data_dict = pickle.load(fh)\n",
      "fh.close()\n",
      "fh = open('npol_raw.pickle')\n",
      "npol_data_dict = pickle.load(fh)\n",
      "fh.close()\n",
      "\n",
      "\n",
      "data_dict = {}\n",
      "data_dict.update(csapr_data_dict)\n",
      "data_dict.update(xsapr_ppi_data_dict)\n",
      "data_dict.update(xsapr_rhi_data_dict)\n",
      "data_dict.update(kazr_data_dict)\n",
      "data_dict.update(npol_data_dict)\n",
      "\n",
      "data_dict.update(kvnx_data_dict)\n",
      "\n",
      "\n"
     ],
     "language": "python",
     "metadata": {},
     "outputs": [],
     "prompt_number": 2
    },
    {
     "cell_type": "code",
     "collapsed": false,
     "input": [
      "print kvnx_data_dict.keys()"
     ],
     "language": "python",
     "metadata": {},
     "outputs": [
      {
       "output_type": "stream",
       "stream": "stdout",
       "text": [
        "['KVNX']\n"
       ]
      }
     ],
     "prompt_number": 3
    },
    {
     "cell_type": "code",
     "collapsed": false,
     "input": [
      "fh = open('parsivel.pickle')\n",
      "parsivel_data_dict = pickle.load(fh)\n",
      "fh.close()\n"
     ],
     "language": "python",
     "metadata": {},
     "outputs": [],
     "prompt_number": 4
    },
    {
     "cell_type": "code",
     "collapsed": false,
     "input": [
      "time = np.linspace(mdates.datestr2num('2011-04-22'), mdates.datestr2num('2011-06-05'), 2000)\n",
      "n_apus = np.zeros_like(time)\n",
      "def find_nearest(array,value):\n",
      "    idx = (np.abs(array-value)).argmin()\n",
      "    return idx\n",
      "for this_result in parsivel_data_dict.values():\n",
      "    for block in this_result:\n",
      "        i_start = find_nearest(time, block[0])\n",
      "        i_end = find_nearest(time, block[0] + block[1])\n",
      "        n_apus[i_start:i_end] = n_apus[i_start:i_end] + 1\n"
     ],
     "language": "python",
     "metadata": {},
     "outputs": [],
     "prompt_number": 5
    },
    {
     "cell_type": "code",
     "collapsed": false,
     "input": [
      "fig = plt.figure(figsize = [15,6])\n",
      "plt.plot(time, n_apus)\n",
      "plt.gca().xaxis_date()\n"
     ],
     "language": "python",
     "metadata": {},
     "outputs": [
      {
       "metadata": {},
       "output_type": "display_data",
       "png": "[encoded data removed]",
       "text": [
        "<matplotlib.figure.Figure at 0x10445d450>"
       ]
      }
     ],
     "prompt_number": 6
    },
    {
     "cell_type": "code",
     "collapsed": false,
     "input": [
      "groups = [('CSAPR Volume','CSAPR RHI'), \n",
      "          ('XSAPR SW','XSAPR SW RHI'), \n",
      "          ('XSAPR NW','XSAPR NW RHI'), \n",
      "          ('XSAPR SE','XSAPR SE RHI'),\n",
      "          ('KVNX',),\n",
      "          ('KAZR VPT',),\n",
      "          ('NPOL PPI','NPOL RHI', 'NPOL PPS')]\n",
      "cols = [('green', 'blue'), \n",
      "        ('green', 'blue'), \n",
      "        ('green', 'blue'), \n",
      "        ('green', 'blue'),\n",
      "        ('green',),\n",
      "        ('green',),\n",
      "        ('green', 'blue', 'red')]\n",
      "\n",
      "months = mdates.DayLocator()  # every month\n",
      "dayFmt = mdates.DateFormatter('%Y-%M-%D')\n",
      "\n",
      "fig, ax = plt.subplots(figsize = [20,10])\n",
      "nam = data_dict.keys()\n",
      "noms = ['0','Parsivels', '16']\n",
      "for i in range(len(groups)):\n",
      "    nm= ''\n",
      "    for j in range(len(groups[i])):\n",
      "        print 'Plotting ', groups[i][j], ' in color ', cols[i][j]\n",
      "        ax.broken_barh(data_dict[groups[i][j]], (i-0.25, .5), facecolors = cols[i][j], edgecolors = 'none')\n",
      "        print i\n",
      "        if j == 0:\n",
      "            nm = nm + ' ' + groups[i][j]\n",
      "        else:\n",
      "            nm = nm + '\\n' + groups[i][j]\n",
      "    noms.append(nm)\n",
      "\n",
      "plt.plot(time, (n_apus/(32)) -1)   \n",
      "plons = np.concatenate([np.array([-1.0,-0.75, -0.5]), range(len(noms)-2)])\n",
      "ax.set_yticks(plons)\n",
      "print noms\n",
      "ax.set_yticklabels(noms)\n",
      "ax.xaxis_date()\n",
      "ax.set_xlim([mdates.datestr2num('2011-04-20'), mdates.datestr2num('2011-06-10')])"
     ],
     "language": "python",
     "metadata": {},
     "outputs": [
      {
       "output_type": "stream",
       "stream": "stdout",
       "text": [
        "Plotting  CSAPR Volume  in color  green\n",
        "0"
       ]
      },
      {
       "output_type": "stream",
       "stream": "stdout",
       "text": [
        "\n",
        "Plotting  CSAPR RHI  in color  blue\n",
        "0"
       ]
      },
      {
       "output_type": "stream",
       "stream": "stdout",
       "text": [
        "\n",
        "Plotting  XSAPR SW  in color  green\n",
        "1"
       ]
      },
      {
       "output_type": "stream",
       "stream": "stdout",
       "text": [
        "\n",
        "Plotting  XSAPR SW RHI  in color  blue\n",
        "1"
       ]
      },
      {
       "output_type": "stream",
       "stream": "stdout",
       "text": [
        "\n",
        "Plotting  XSAPR NW  in color  green\n",
        "2"
       ]
      },
      {
       "output_type": "stream",
       "stream": "stdout",
       "text": [
        "\n",
        "Plotting  XSAPR NW RHI  in color  blue\n",
        "2"
       ]
      },
      {
       "output_type": "stream",
       "stream": "stdout",
       "text": [
        "\n",
        "Plotting  XSAPR SE  in color  green\n",
        "3"
       ]
      },
      {
       "output_type": "stream",
       "stream": "stdout",
       "text": [
        "\n",
        "Plotting  XSAPR SE RHI  in color  blue\n",
        "3"
       ]
      },
      {
       "output_type": "stream",
       "stream": "stdout",
       "text": [
        "\n",
        "Plotting  KVNX  in color  green\n",
        "4"
       ]
      },
      {
       "output_type": "stream",
       "stream": "stdout",
       "text": [
        "\n",
        "Plotting  KAZR VPT  in color  green\n",
        "5\n",
        "Plotting  NPOL PPI  in color  green\n",
        "6"
       ]
      },
      {
       "output_type": "stream",
       "stream": "stdout",
       "text": [
        "\n",
        "Plotting  NPOL RHI  in color  blue\n",
        "6"
       ]
      },
      {
       "output_type": "stream",
       "stream": "stdout",
       "text": [
        "\n",
        "Plotting  NPOL PPS  in color  red\n",
        "6"
       ]
      },
      {
       "output_type": "stream",
       "stream": "stdout",
       "text": [
        "\n",
        "['0', 'Parsivels', '16', ' CSAPR Volume\\nCSAPR RHI', ' XSAPR SW\\nXSAPR SW RHI', ' XSAPR NW\\nXSAPR NW RHI', ' XSAPR SE\\nXSAPR SE RHI', ' KVNX', ' KAZR VPT', ' NPOL PPI\\nNPOL RHI\\nNPOL PPS']\n"
       ]
      },
      {
       "metadata": {},
       "output_type": "pyout",
       "prompt_number": 7,
       "text": [
        "(734247.0, 734298.0)"
       ]
      },
      {
       "metadata": {},
       "output_type": "display_data",
       "png": "[encoded data removed]",
       "text": [
        "<matplotlib.figure.Figure at 0x10a7f0950>"
       ]
      }
     ],
     "prompt_number": 7
    },
    {
     "cell_type": "code",
     "collapsed": false,
     "input": [
      "print (n_apus/(32) -1).max()"
     ],
     "language": "python",
     "metadata": {},
     "outputs": [
      {
       "output_type": "stream",
       "stream": "stdout",
       "text": [
        "-0.5\n"
       ]
      }
     ],
     "prompt_number": 8
    },
    {
     "cell_type": "code",
     "collapsed": false,
     "input": [
      "print [-1., -0.5].append(range(len(noms)-2))"
     ],
     "language": "python",
     "metadata": {},
     "outputs": [
      {
       "output_type": "stream",
       "stream": "stdout",
       "text": [
        "None\n"
       ]
      }
     ],
     "prompt_number": 9
    },
    {
     "cell_type": "code",
     "collapsed": false,
     "input": [
      "print plons"
     ],
     "language": "python",
     "metadata": {},
     "outputs": [
      {
       "output_type": "stream",
       "stream": "stdout",
       "text": [
        "[-1.   -0.75 -0.5   0.    1.    2.    3.    4.    5.    6.    7.  ]\n"
       ]
      }
     ],
     "prompt_number": 10
    },
    {
     "cell_type": "code",
     "collapsed": false,
     "input": [],
     "language": "python",
     "metadata": {},
     "outputs": [],
     "prompt_number": 10
    },
    {
     "cell_type": "code",
     "collapsed": false,
     "input": [
      "print plons"
     ],
     "language": "python",
     "metadata": {},
     "outputs": [
      {
       "output_type": "stream",
       "stream": "stdout",
       "text": [
        "[-1.   -0.75 -0.5   0.    1.    2.    3.    4.    5.    6.    7.  ]\n"
       ]
      }
     ],
     "prompt_number": 11
    },
    {
     "cell_type": "code",
     "collapsed": false,
     "input": [],
     "language": "python",
     "metadata": {},
     "outputs": []
    }
   ],
   "metadata": {}
  }
 ]
}