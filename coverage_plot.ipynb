{
 "metadata": {
  "name": "",
  "signature": "sha256:b59e9be997076bd2b356d6ca3974abf79d93f3cb30ceb68b12f26022f22696dd"
 },
 "nbformat": 3,
 "nbformat_minor": 0,
 "worksheets": [
  {
   "cells": [
    {
     "cell_type": "code",
     "collapsed": false,
     "input": [
      "#first we do some imports and check the version of Py-ART for consistency\n",
      "import pyart\n",
      "from matplotlib import pyplot as plt\n",
      "from matplotlib import rc\n",
      "import matplotlib.dates as mdates\n",
      "import netCDF4\n",
      "from netCDF4 import num2date\n",
      "import numpy as np\n",
      "import copy\n",
      "import scipy\n",
      "import os\n",
      "from IPython.parallel import Client\n",
      "import pickle\n",
      "from time import time\n",
      "%matplotlib inline\n",
      "print pyart.__version__"
     ],
     "language": "python",
     "metadata": {},
     "outputs": [
      {
       "output_type": "stream",
       "stream": "stdout",
       "text": [
        "1.0.0.dev-46a3958\n"
       ]
      }
     ],
     "prompt_number": 1
    },
    {
     "cell_type": "code",
     "collapsed": false,
     "input": [
      "fh = open('xsapr_ppi.pickle')\n",
      "xsapr_ppi_data_dict = pickle.load(fh)\n",
      "fh.close()\n",
      "fh = open('csapr.pickle')\n",
      "csapr_data_dict = pickle.load(fh)\n",
      "fh.close()\n",
      "fh = open('xsapr_rhi.pickle')\n",
      "xsapr_rhi_data_dict = pickle.load(fh)\n",
      "fh.close()\n",
      "fh = open('kvnx.pickle')\n",
      "kvnx_data_dict = pickle.load(fh)\n",
      "fh.close()\n",
      "\n",
      "data_dict = {}\n",
      "data_dict.update(csapr_data_dict)\n",
      "data_dict.update(xsapr_ppi_data_dict)\n",
      "data_dict.update(xsapr_rhi_data_dict)\n",
      "\n",
      "data_dict.update(kvnx_data_dict)\n",
      "\n",
      "\n"
     ],
     "language": "python",
     "metadata": {},
     "outputs": [],
     "prompt_number": 26
    },
    {
     "cell_type": "code",
     "collapsed": false,
     "input": [
      "print kvnx_data_dict.keys()"
     ],
     "language": "python",
     "metadata": {},
     "outputs": [
      {
       "output_type": "stream",
       "stream": "stdout",
       "text": [
        "['KVNX']\n"
       ]
      }
     ],
     "prompt_number": 23
    },
    {
     "cell_type": "code",
     "collapsed": false,
     "input": [
      "months = mdates.DayLocator()  # every month\n",
      "dayFmt = mdates.DateFormatter('%Y-%M-%D')\n",
      "\n",
      "fig, ax = plt.subplots(figsize = [20,10])\n",
      "nam = data_dict.keys()\n",
      "for i in range(len(nam)):\n",
      "    ax.broken_barh(data_dict[nam[i]], (i-0.25, .5), facecolors = 'green', edgecolors = 'none')\n",
      "    print i\n",
      "ax.set_yticks(range(len(nam)))\n",
      "ax.set_yticklabels(nam)\n",
      "ax.xaxis_date()\n",
      "ax.set_xlim([mdates.datestr2num('2011-04-20'), mdates.datestr2num('2011-06-10')])"
     ],
     "language": "python",
     "metadata": {},
     "outputs": [
      {
       "output_type": "stream",
       "stream": "stdout",
       "text": [
        "0\n",
        "1"
       ]
      },
      {
       "output_type": "stream",
       "stream": "stdout",
       "text": [
        "\n",
        "2"
       ]
      },
      {
       "output_type": "stream",
       "stream": "stdout",
       "text": [
        "\n",
        "3"
       ]
      },
      {
       "output_type": "stream",
       "stream": "stdout",
       "text": [
        "\n",
        "4\n",
        "5"
       ]
      },
      {
       "output_type": "stream",
       "stream": "stdout",
       "text": [
        "\n"
       ]
      },
      {
       "metadata": {},
       "output_type": "pyout",
       "prompt_number": 7,
       "text": [
        "(734247.0, 734298.0)"
       ]
      },
      {
       "metadata": {},
       "output_type": "display_data",
       "png": "[encoded data removed]",
       "text": [
        "<matplotlib.figure.Figure at 0x10ee7fd50>"
       ]
      }
     ],
     "prompt_number": 7
    },
    {
     "cell_type": "code",
     "collapsed": false,
     "input": [
      "groups = [('CSAPR Volume','CSAPR RHI'), \n",
      "          ('XSAPR SW','XSAPR SW RHI'), \n",
      "          ('XSAPR NW','XSAPR NW RHI'), \n",
      "          ('XSAPR SE','XSAPR SE RHI'),\n",
      "          ('KVNX',)]\n",
      "cols = [('green', 'blue'), \n",
      "        ('green', 'blue'), \n",
      "        ('green', 'blue'), \n",
      "        ('green', 'blue'),\n",
      "        ('green',)]\n",
      "\n",
      "months = mdates.DayLocator()  # every month\n",
      "dayFmt = mdates.DateFormatter('%Y-%M-%D')\n",
      "\n",
      "fig, ax = plt.subplots(figsize = [20,10])\n",
      "nam = data_dict.keys()\n",
      "noms = []\n",
      "for i in range(len(groups)):\n",
      "    nm= ''\n",
      "    for j in range(len(groups[i])):\n",
      "        print 'Plotting ', groups[i][j], ' in color ', cols[i][j]\n",
      "        ax.broken_barh(data_dict[groups[i][j]], (i-0.25, .5), facecolors = cols[i][j], edgecolors = 'none')\n",
      "        print i\n",
      "        if j == 0:\n",
      "            nm = nm + ' ' + groups[i][j]\n",
      "        else:\n",
      "            nm = nm + '\\n' + groups[i][j]\n",
      "    noms.append(nm)\n",
      "ax.set_yticks(range(len(noms)))\n",
      "print noms\n",
      "ax.set_yticklabels(noms)\n",
      "ax.xaxis_date()\n",
      "ax.set_xlim([mdates.datestr2num('2011-04-20'), mdates.datestr2num('2011-06-10')])"
     ],
     "language": "python",
     "metadata": {},
     "outputs": [
      {
       "output_type": "stream",
       "stream": "stdout",
       "text": [
        "Plotting  CSAPR Volume  in color  green\n",
        "0"
       ]
      },
      {
       "output_type": "stream",
       "stream": "stdout",
       "text": [
        "\n",
        "Plotting  CSAPR RHI  in color  blue\n",
        "0"
       ]
      },
      {
       "output_type": "stream",
       "stream": "stdout",
       "text": [
        "\n",
        "Plotting  XSAPR SW  in color  green\n",
        "1"
       ]
      },
      {
       "output_type": "stream",
       "stream": "stdout",
       "text": [
        "\n",
        "Plotting  XSAPR SW RHI  in color  blue\n",
        "1"
       ]
      },
      {
       "output_type": "stream",
       "stream": "stdout",
       "text": [
        "\n",
        "Plotting  XSAPR NW  in color  green\n",
        "2"
       ]
      },
      {
       "output_type": "stream",
       "stream": "stdout",
       "text": [
        "\n",
        "Plotting  XSAPR NW RHI  in color  blue\n",
        "2"
       ]
      },
      {
       "output_type": "stream",
       "stream": "stdout",
       "text": [
        "\n",
        "Plotting  XSAPR SE  in color  green\n",
        "3"
       ]
      },
      {
       "output_type": "stream",
       "stream": "stdout",
       "text": [
        "\n",
        "Plotting  XSAPR SE RHI  in color  blue\n",
        "3"
       ]
      },
      {
       "output_type": "stream",
       "stream": "stdout",
       "text": [
        "\n",
        "Plotting  KVNX  in color  green\n",
        "4"
       ]
      },
      {
       "output_type": "stream",
       "stream": "stdout",
       "text": [
        "\n",
        "[' CSAPR Volume\\nCSAPR RHI', ' XSAPR SW\\nXSAPR SW RHI', ' XSAPR NW\\nXSAPR NW RHI', ' XSAPR SE\\nXSAPR SE RHI', ' KVNX']\n"
       ]
      },
      {
       "metadata": {},
       "output_type": "pyout",
       "prompt_number": 27,
       "text": [
        "(734247.0, 734298.0)"
       ]
      },
      {
       "metadata": {},
       "output_type": "display_data",
       "png": "[encoded data removed]",
       "text": [
        "<matplotlib.figure.Figure at 0x10c472f50>"
       ]
      }
     ],
     "prompt_number": 27
    },
    {
     "cell_type": "code",
     "collapsed": false,
     "input": [
      "print data_dict.keys()"
     ],
     "language": "python",
     "metadata": {},
     "outputs": [
      {
       "output_type": "stream",
       "stream": "stdout",
       "text": [
        "['CSAPR Volume', 'XSAPR SE', 'XSAPR NW', 'XSAPR SW', 'CSAPR VPT', 'CSAPR RHI']\n"
       ]
      }
     ],
     "prompt_number": 10
    },
    {
     "cell_type": "code",
     "collapsed": false,
     "input": [],
     "language": "python",
     "metadata": {},
     "outputs": []
    }
   ],
   "metadata": {}
  }
 ]
}