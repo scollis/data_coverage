{
 "metadata": {
  "name": "",
  "signature": "sha256:4da22a3426da80c9eb02d1591346c36c14c8a6b816c43ae81d830741adb4ed4c"
 },
 "nbformat": 3,
 "nbformat_minor": 0,
 "worksheets": [
  {
   "cells": [
    {
     "cell_type": "code",
     "collapsed": false,
     "input": [
      "#first we do some imports and check the version of Py-ART for consistency\n",
      "import pyart\n",
      "from matplotlib import pyplot as plt\n",
      "from matplotlib import rc\n",
      "import matplotlib.dates as mdates\n",
      "import netCDF4\n",
      "from netCDF4 import num2date\n",
      "import numpy as np\n",
      "import copy\n",
      "import scipy\n",
      "import os\n",
      "from IPython.parallel import Client\n",
      "import pickle\n",
      "from time import time\n",
      "%matplotlib inline\n",
      "print pyart.__version__"
     ],
     "language": "python",
     "metadata": {},
     "outputs": [
      {
       "output_type": "stream",
       "stream": "stdout",
       "text": [
        "1.0.0.dev-46a3958\n"
       ]
      }
     ],
     "prompt_number": 2
    },
    {
     "cell_type": "code",
     "collapsed": false,
     "input": [
      "fh = open('xsapr_ppi.pickle')\n",
      "xsapr_ppi_data_dict = pickle.load(fh)\n",
      "fh.close()\n",
      "fh = open('csapr.pickle')\n",
      "csapr_data_dict = pickle.load(fh)\n",
      "fh.close()\n",
      "fh = open('xsapr_rhi.pickle')\n",
      "xsapr_rhi_data_dict = pickle.load(fh)\n",
      "fh.close()\n",
      "fh = open('kvnx.pickle')\n",
      "kvnx_data_dict = pickle.load(fh)\n",
      "fh.close()\n",
      "fh = open('kazr.pickle')\n",
      "kazr_data_dict = pickle.load(fh)\n",
      "fh.close()\n",
      "fh = open('npol.pickle')\n",
      "npol_data_dict = pickle.load(fh)\n",
      "fh.close()\n",
      "\n",
      "\n",
      "data_dict = {}\n",
      "data_dict.update(csapr_data_dict)\n",
      "data_dict.update(xsapr_ppi_data_dict)\n",
      "data_dict.update(xsapr_rhi_data_dict)\n",
      "data_dict.update(kazr_data_dict)\n",
      "data_dict.update(npol_data_dict)\n",
      "\n",
      "data_dict.update(kvnx_data_dict)\n",
      "\n",
      "\n"
     ],
     "language": "python",
     "metadata": {},
     "outputs": [],
     "prompt_number": 3
    },
    {
     "cell_type": "code",
     "collapsed": false,
     "input": [
      "print kvnx_data_dict.keys()"
     ],
     "language": "python",
     "metadata": {},
     "outputs": [
      {
       "output_type": "stream",
       "stream": "stdout",
       "text": [
        "['KVNX']\n"
       ]
      }
     ],
     "prompt_number": 4
    },
    {
     "cell_type": "code",
     "collapsed": false,
     "input": [
      "fh = open('parsivel.pickle')\n",
      "parsivel_data_dict = pickle.load(fh)\n",
      "fh.close()\n"
     ],
     "language": "python",
     "metadata": {},
     "outputs": [],
     "prompt_number": 6
    },
    {
     "cell_type": "code",
     "collapsed": false,
     "input": [
      "time = np.linspace(mdates.datestr2num('2011-04-22'), mdates.datestr2num('2011-06-05'), 2000)\n",
      "n_apus = np.zeros_like(time)\n",
      "def find_nearest(array,value):\n",
      "    idx = (np.abs(array-value)).argmin()\n",
      "    return idx\n",
      "for this_result in parsivel_data_dict.values():\n",
      "    for block in this_result:\n",
      "        i_start = find_nearest(time, block[0])\n",
      "        i_end = find_nearest(time, block[0] + block[1])\n",
      "        n_apus[i_start:i_end] = n_apus[i_start:i_end] + 1\n"
     ],
     "language": "python",
     "metadata": {},
     "outputs": [],
     "prompt_number": 7
    },
    {
     "cell_type": "code",
     "collapsed": false,
     "input": [
      "fig = plt.figure(figsize = [15,6])\n",
      "plt.plot(time, n_apus)\n",
      "plt.gca().xaxis_date()\n"
     ],
     "language": "python",
     "metadata": {},
     "outputs": [
      {
       "metadata": {},
       "output_type": "display_data",
       "png": "[encoded data removed]",
       "text": [
        "<matplotlib.figure.Figure at 0x1081a0c50>"
       ]
      }
     ],
     "prompt_number": 8
    },
    {
     "cell_type": "code",
     "collapsed": false,
     "input": [
      "groups = [('CSAPR Volume','CSAPR RHI'), \n",
      "          ('XSAPR SW','XSAPR SW RHI'), \n",
      "          ('XSAPR NW','XSAPR NW RHI'), \n",
      "          ('XSAPR SE','XSAPR SE RHI'),\n",
      "          ('KVNX',),\n",
      "          ('KAZR VPT',),\n",
      "          ('NPOL',)]\n",
      "cols = [('green', 'blue'), \n",
      "        ('green', 'blue'), \n",
      "        ('green', 'blue'), \n",
      "        ('green', 'blue'),\n",
      "        ('green',),\n",
      "        ('green',),\n",
      "        ('green',)]\n",
      "\n",
      "months = mdates.DayLocator()  # every month\n",
      "dayFmt = mdates.DateFormatter('%Y-%M-%D')\n",
      "\n",
      "fig, ax = plt.subplots(figsize = [20,10])\n",
      "nam = data_dict.keys()\n",
      "noms = ['0','Parsivels', '16']\n",
      "for i in range(len(groups)):\n",
      "    nm= ''\n",
      "    for j in range(len(groups[i])):\n",
      "        print 'Plotting ', groups[i][j], ' in color ', cols[i][j]\n",
      "        ax.broken_barh(data_dict[groups[i][j]], (i-0.25, .5), facecolors = cols[i][j], edgecolors = 'none')\n",
      "        print i\n",
      "        if j == 0:\n",
      "            nm = nm + ' ' + groups[i][j]\n",
      "        else:\n",
      "            nm = nm + '\\n' + groups[i][j]\n",
      "    noms.append(nm)\n",
      "\n",
      "plt.plot(time, (n_apus/(32)) -1)   \n",
      "plons = np.concatenate([np.array([-1.0,-0.75, -0.5]), range(len(noms)-2)])\n",
      "ax.set_yticks(plons)\n",
      "print noms\n",
      "ax.set_yticklabels(noms)\n",
      "ax.xaxis_date()\n",
      "ax.set_xlim([mdates.datestr2num('2011-04-20'), mdates.datestr2num('2011-06-10')])"
     ],
     "language": "python",
     "metadata": {},
     "outputs": [
      {
       "output_type": "stream",
       "stream": "stdout",
       "text": [
        "Plotting  CSAPR Volume  in color  green\n",
        "0"
       ]
      },
      {
       "output_type": "stream",
       "stream": "stdout",
       "text": [
        "\n",
        "Plotting  CSAPR RHI  in color  blue\n",
        "0"
       ]
      },
      {
       "output_type": "stream",
       "stream": "stdout",
       "text": [
        "\n",
        "Plotting  XSAPR SW  in color  green\n",
        "1"
       ]
      },
      {
       "output_type": "stream",
       "stream": "stdout",
       "text": [
        "\n",
        "Plotting  XSAPR SW RHI  in color  blue\n",
        "1"
       ]
      },
      {
       "output_type": "stream",
       "stream": "stdout",
       "text": [
        "\n",
        "Plotting  XSAPR NW  in color  green\n",
        "2"
       ]
      },
      {
       "output_type": "stream",
       "stream": "stdout",
       "text": [
        "\n",
        "Plotting  XSAPR NW RHI  in color  blue\n",
        "2"
       ]
      },
      {
       "output_type": "stream",
       "stream": "stdout",
       "text": [
        "\n",
        "Plotting  XSAPR SE  in color  green\n",
        "3"
       ]
      },
      {
       "output_type": "stream",
       "stream": "stdout",
       "text": [
        "\n",
        "Plotting  XSAPR SE RHI  in color  blue\n",
        "3"
       ]
      },
      {
       "output_type": "stream",
       "stream": "stdout",
       "text": [
        "\n",
        "Plotting  KVNX  in color  green\n",
        "4"
       ]
      },
      {
       "output_type": "stream",
       "stream": "stdout",
       "text": [
        "\n",
        "Plotting  KAZR VPT  in color  green\n",
        "5\n",
        "Plotting  NPOL  in color  green\n",
        "6"
       ]
      },
      {
       "output_type": "stream",
       "stream": "stdout",
       "text": [
        "\n",
        "['0', 'Parsivels', '16', ' CSAPR Volume\\nCSAPR RHI', ' XSAPR SW\\nXSAPR SW RHI', ' XSAPR NW\\nXSAPR NW RHI', ' XSAPR SE\\nXSAPR SE RHI', ' KVNX', ' KAZR VPT', ' NPOL']\n"
       ]
      },
      {
       "metadata": {},
       "output_type": "pyout",
       "prompt_number": 27,
       "text": [
        "(734247.0, 734298.0)"
       ]
      },
      {
       "metadata": {},
       "output_type": "display_data",
       "png": "[encoded data removed]",
       "text": [
        "<matplotlib.figure.Figure at 0x117c2c410>"
       ]
      }
     ],
     "prompt_number": 27
    },
    {
     "cell_type": "code",
     "collapsed": false,
     "input": [
      "print (n_apus/(32) -1).max()"
     ],
     "language": "python",
     "metadata": {},
     "outputs": [
      {
       "output_type": "stream",
       "stream": "stdout",
       "text": [
        "-0.5\n"
       ]
      }
     ],
     "prompt_number": 12
    },
    {
     "cell_type": "code",
     "collapsed": false,
     "input": [
      "print [-1., -0.5].append(range(len(noms)-2))"
     ],
     "language": "python",
     "metadata": {},
     "outputs": [
      {
       "output_type": "stream",
       "stream": "stdout",
       "text": [
        "None\n"
       ]
      }
     ],
     "prompt_number": 14
    },
    {
     "cell_type": "code",
     "collapsed": false,
     "input": [
      "print plons"
     ],
     "language": "python",
     "metadata": {},
     "outputs": [
      {
       "output_type": "stream",
       "stream": "stdout",
       "text": [
        "[-1.0, 0.5, [0, 1, 2, 3, 4, 5, 6]]\n"
       ]
      }
     ],
     "prompt_number": 16
    },
    {
     "cell_type": "code",
     "collapsed": false,
     "input": [],
     "language": "python",
     "metadata": {},
     "outputs": [],
     "prompt_number": 22
    },
    {
     "cell_type": "code",
     "collapsed": false,
     "input": [
      "print plons"
     ],
     "language": "python",
     "metadata": {},
     "outputs": [
      {
       "output_type": "stream",
       "stream": "stdout",
       "text": [
        "[-1.   0.5  0.   1.   2.   3.   4.   5.   6. ]\n"
       ]
      }
     ],
     "prompt_number": 23
    },
    {
     "cell_type": "code",
     "collapsed": false,
     "input": [],
     "language": "python",
     "metadata": {},
     "outputs": []
    }
   ],
   "metadata": {}
  }
 ]
}